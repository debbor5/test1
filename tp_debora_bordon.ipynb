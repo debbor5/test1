{
  "nbformat": 4,
  "nbformat_minor": 0,
  "metadata": {
    "colab": {
      "provenance": [],
      "authorship_tag": "ABX9TyOUlWDWo+iWURoFbkj9MvuY",
      "include_colab_link": true
    },
    "kernelspec": {
      "name": "python3",
      "display_name": "Python 3"
    },
    "language_info": {
      "name": "python"
    }
  },
  "cells": [
    {
      "cell_type": "markdown",
      "metadata": {
        "id": "view-in-github",
        "colab_type": "text"
      },
      "source": [
        "<a href=\"https://colab.research.google.com/github/debbor5/test1/blob/main/tp_debora_bordon.ipynb\" target=\"_parent\"><img src=\"https://colab.research.google.com/assets/colab-badge.svg\" alt=\"Open In Colab\"/></a>"
      ]
    },
    {
      "cell_type": "code",
      "execution_count": 3,
      "metadata": {
        "id": "yxZW0qKtDQ9u"
      },
      "outputs": [],
      "source": [
        "import pandas as pd"
      ]
    },
    {
      "cell_type": "code",
      "source": [
        "import numpy as np"
      ],
      "metadata": {
        "id": "tyQfXFQ_DX4O"
      },
      "execution_count": 4,
      "outputs": []
    },
    {
      "cell_type": "code",
      "source": [
        "import matplotlib.pyplot as plt"
      ],
      "metadata": {
        "id": "3f0x0IeiDn5e"
      },
      "execution_count": 5,
      "outputs": []
    },
    {
      "cell_type": "code",
      "source": [
        "import seaborn as sns"
      ],
      "metadata": {
        "id": "0NlFiyQPD7ho"
      },
      "execution_count": 6,
      "outputs": []
    },
    {
      "cell_type": "code",
      "source": [
        "df= pd.read_csv(\"https://raw.githubusercontent.com/debbor5/tpdataset/refs/heads/main/2023%20Matricula%20por%20edad.csv\")\n"
      ],
      "metadata": {
        "id": "IOFvP9vvD-7M"
      },
      "execution_count": 26,
      "outputs": []
    },
    {
      "cell_type": "code",
      "source": [
        "print(df.head())"
      ],
      "metadata": {
        "colab": {
          "base_uri": "https://localhost:8080/"
        },
        "id": "xQP2Z-ReE13L",
        "outputId": "e095dd8d-4a44-4ae9-d893-a7cd8f4aa101"
      },
      "execution_count": 27,
      "outputs": [
        {
          "output_type": "stream",
          "name": "stdout",
          "text": [
            "  provincia;departamento;sector;ambito;grado;0años;1año;2años;3años;4años;5años;6años;7años;8años;9años;10años;11años;12años;13años;14años;15años;16años;17años;18años;19años;20años;21años;22años;23años;24años;25años;26años;27años;28años;29años;30añosymás\n",
            "0  Buenos Aires;ALMIRANTE BROWN;Estatal;Urbano;1°...                                                                                                                                                                                                          \n",
            "1  Buenos Aires;ALMIRANTE BROWN;Estatal;Urbano;10...                                                                                                                                                                                                          \n",
            "2  Buenos Aires;ALMIRANTE BROWN;Estatal;Urbano;11...                                                                                                                                                                                                          \n",
            "3  Buenos Aires;ALMIRANTE BROWN;Estatal;Urbano;12...                                                                                                                                                                                                          \n",
            "4  Buenos Aires;ALMIRANTE BROWN;Estatal;Urbano;13...                                                                                                                                                                                                          \n"
          ]
        }
      ]
    },
    {
      "cell_type": "code",
      "source": [
        "df.shape"
      ],
      "metadata": {
        "colab": {
          "base_uri": "https://localhost:8080/"
        },
        "id": "Kdj2Tx1AKfId",
        "outputId": "5a4bbb27-cf2d-4aab-c024-65373875abcc"
      },
      "execution_count": 28,
      "outputs": [
        {
          "output_type": "execute_result",
          "data": {
            "text/plain": [
              "(1604, 1)"
            ]
          },
          "metadata": {},
          "execution_count": 28
        }
      ]
    }
  ]
}
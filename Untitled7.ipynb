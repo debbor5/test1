{
  "nbformat": 4,
  "nbformat_minor": 0,
  "metadata": {
    "colab": {
      "provenance": [],
      "toc_visible": true,
      "authorship_tag": "ABX9TyNc6TsSoTU70ScPgX3FxjwX",
      "include_colab_link": true
    },
    "kernelspec": {
      "name": "python3",
      "display_name": "Python 3"
    },
    "language_info": {
      "name": "python"
    }
  },
  "cells": [
    {
      "cell_type": "markdown",
      "metadata": {
        "id": "view-in-github",
        "colab_type": "text"
      },
      "source": [
        "<a href=\"https://colab.research.google.com/github/debbor5/test1/blob/main/Untitled7.ipynb\" target=\"_parent\"><img src=\"https://colab.research.google.com/assets/colab-badge.svg\" alt=\"Open In Colab\"/></a>"
      ]
    },
    {
      "cell_type": "code",
      "execution_count": 3,
      "metadata": {
        "id": "yxZW0qKtDQ9u"
      },
      "outputs": [],
      "source": [
        "import pandas as pd"
      ]
    },
    {
      "cell_type": "code",
      "source": [
        "import numpy as np"
      ],
      "metadata": {
        "id": "tyQfXFQ_DX4O"
      },
      "execution_count": 4,
      "outputs": []
    },
    {
      "cell_type": "code",
      "source": [
        "import matplotlib.pyplot as plt"
      ],
      "metadata": {
        "id": "3f0x0IeiDn5e"
      },
      "execution_count": 5,
      "outputs": []
    },
    {
      "cell_type": "code",
      "source": [
        "import seaborn as sns"
      ],
      "metadata": {
        "id": "0NlFiyQPD7ho"
      },
      "execution_count": 6,
      "outputs": []
    },
    {
      "cell_type": "code",
      "source": [
        "df= pd.read_csv(\"https://raw.githubusercontent.com/debbor5/tpdataset/refs/heads/main/2023%20Matricula%20por%20edad.csv\" , sep= \";\" )\n"
      ],
      "metadata": {
        "id": "IOFvP9vvD-7M"
      },
      "execution_count": 30,
      "outputs": []
    },
    {
      "cell_type": "code",
      "source": [
        "print(df.head())"
      ],
      "metadata": {
        "colab": {
          "base_uri": "https://localhost:8080/"
        },
        "id": "xQP2Z-ReE13L",
        "outputId": "2c039613-979a-4fb0-e86c-e721cc645066"
      },
      "execution_count": 31,
      "outputs": [
        {
          "output_type": "stream",
          "name": "stdout",
          "text": [
            "      provincia     departamento   sector  ambito    grado 0años 1año 2años  \\\n",
            "0  Buenos Aires  ALMIRANTE BROWN  Estatal  Urbano       1°                    \n",
            "1  Buenos Aires  ALMIRANTE BROWN  Estatal  Urbano      10°                    \n",
            "2  Buenos Aires  ALMIRANTE BROWN  Estatal  Urbano      11°                    \n",
            "3  Buenos Aires  ALMIRANTE BROWN  Estatal  Urbano      12°                    \n",
            "4  Buenos Aires  ALMIRANTE BROWN  Estatal  Urbano  13°/14°                    \n",
            "\n",
            "  3años 4años  ... 21años 22años 23años 24años 25años 26años 27años 28años  \\\n",
            "0              ...                                                           \n",
            "1              ...                                                           \n",
            "2              ...                                                           \n",
            "3              ...                                                           \n",
            "4              ...                                                           \n",
            "\n",
            "  29años 30añosymás  \n",
            "0                    \n",
            "1                    \n",
            "2                    \n",
            "3                    \n",
            "4                    \n",
            "\n",
            "[5 rows x 36 columns]\n"
          ]
        }
      ]
    },
    {
      "cell_type": "code",
      "source": [
        "df.shape"
      ],
      "metadata": {
        "colab": {
          "base_uri": "https://localhost:8080/"
        },
        "id": "Kdj2Tx1AKfId",
        "outputId": "e54e0627-5aa1-4ce2-a5ca-722717152d9a"
      },
      "execution_count": 32,
      "outputs": [
        {
          "output_type": "execute_result",
          "data": {
            "text/plain": [
              "(1604, 36)"
            ]
          },
          "metadata": {},
          "execution_count": 32
        }
      ]
    }
  ]
}